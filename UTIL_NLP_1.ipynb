{
 "cells": [
  {
   "cell_type": "code",
   "execution_count": 1,
   "metadata": {
    "collapsed": true
   },
   "outputs": [],
   "source": [
    "# Requirements numpy-1.15.0 pandas-0.23.4 \n",
    "# update conda and pip using:\n",
    "# conda update pandas \n",
    "# pip install -U pandas"
   ]
  },
  {
   "cell_type": "code",
   "execution_count": 2,
   "metadata": {},
   "outputs": [
    {
     "data": {
      "text/plain": [
       "Index(['Identifier', 'Company Name', 'Business Description',\n",
       "       'TRBC Economic Sector Name', 'Unnamed: 4'],\n",
       "      dtype='object')"
      ]
     },
     "execution_count": 2,
     "metadata": {},
     "output_type": "execute_result"
    }
   ],
   "source": [
    "import pandas as pd\n",
    "import numpy as np\n",
    "from sklearn import preprocessing\n",
    "from sklearn.feature_extraction.text import CountVectorizer, TfidfVectorizer, TfidfTransformer\n",
    "from sklearn.model_selection import train_test_split, KFold\n",
    "from sklearn.feature_selection import chi2\n",
    "from nltk.corpus import stopwords\n",
    "from nltk.stem.snowball import SnowballStemmer\n",
    "import matplotlib\n",
    "from matplotlib import pyplot as plt\n",
    "from sklearn.naive_bayes import MultinomialNB\n",
    "from collections import Counter\n",
    "\n",
    "from io import StringIO\n",
    "\n",
    "%matplotlib inline\n",
    "%config InlineBackend.figure_format = 'retina'\n",
    "\n",
    "df = pd.read_csv('Data_ML.csv', delimiter=',', encoding=\"utf-8-sig\")\n",
    "df.head()\n",
    "df.columns\n",
    "\n"
   ]
  },
  {
   "cell_type": "code",
   "execution_count": 3,
   "metadata": {},
   "outputs": [
    {
     "data": {
      "text/html": [
       "<div>\n",
       "<style scoped>\n",
       "    .dataframe tbody tr th:only-of-type {\n",
       "        vertical-align: middle;\n",
       "    }\n",
       "\n",
       "    .dataframe tbody tr th {\n",
       "        vertical-align: top;\n",
       "    }\n",
       "\n",
       "    .dataframe thead th {\n",
       "        text-align: right;\n",
       "    }\n",
       "</style>\n",
       "<table border=\"1\" class=\"dataframe\">\n",
       "  <thead>\n",
       "    <tr style=\"text-align: right;\">\n",
       "      <th></th>\n",
       "      <th>Identifier</th>\n",
       "      <th>Company Name</th>\n",
       "      <th>Business Description</th>\n",
       "      <th>TRBC Economic Sector Name</th>\n",
       "      <th>Unnamed: 4</th>\n",
       "    </tr>\n",
       "  </thead>\n",
       "  <tbody>\n",
       "    <tr>\n",
       "      <th>0</th>\n",
       "      <td>CMI.N</td>\n",
       "      <td>Cummins Inc</td>\n",
       "      <td>Cummins Inc. designs, manufactures, distribute...</td>\n",
       "      <td>Consumer Cyclicals</td>\n",
       "      <td>NaN</td>\n",
       "    </tr>\n",
       "    <tr>\n",
       "      <th>1</th>\n",
       "      <td>RIO.L</td>\n",
       "      <td>Rio Tinto PLC</td>\n",
       "      <td>Rio Tinto plc is a mining and metals company. ...</td>\n",
       "      <td>Basic Materials</td>\n",
       "      <td>NaN</td>\n",
       "    </tr>\n",
       "    <tr>\n",
       "      <th>2</th>\n",
       "      <td>RIO.AX</td>\n",
       "      <td>Rio Tinto Ltd</td>\n",
       "      <td>Rio Tinto Limited (Rio Tinto) is a mining comp...</td>\n",
       "      <td>Basic Materials</td>\n",
       "      <td>NaN</td>\n",
       "    </tr>\n",
       "    <tr>\n",
       "      <th>3</th>\n",
       "      <td>RDSa.AS</td>\n",
       "      <td>Royal Dutch Shell PLC</td>\n",
       "      <td>The Royal Dutch Shell plc explores for crude o...</td>\n",
       "      <td>Energy</td>\n",
       "      <td>NaN</td>\n",
       "    </tr>\n",
       "    <tr>\n",
       "      <th>4</th>\n",
       "      <td>BLT.L</td>\n",
       "      <td>BHP Billiton PLC</td>\n",
       "      <td>BHP Billiton Plc is a global resources company...</td>\n",
       "      <td>Basic Materials</td>\n",
       "      <td>NaN</td>\n",
       "    </tr>\n",
       "  </tbody>\n",
       "</table>\n",
       "</div>"
      ],
      "text/plain": [
       "  Identifier           Company Name  \\\n",
       "0      CMI.N            Cummins Inc   \n",
       "1      RIO.L          Rio Tinto PLC   \n",
       "2     RIO.AX          Rio Tinto Ltd   \n",
       "3    RDSa.AS  Royal Dutch Shell PLC   \n",
       "4      BLT.L       BHP Billiton PLC   \n",
       "\n",
       "                                Business Description  \\\n",
       "0  Cummins Inc. designs, manufactures, distribute...   \n",
       "1  Rio Tinto plc is a mining and metals company. ...   \n",
       "2  Rio Tinto Limited (Rio Tinto) is a mining comp...   \n",
       "3  The Royal Dutch Shell plc explores for crude o...   \n",
       "4  BHP Billiton Plc is a global resources company...   \n",
       "\n",
       "  TRBC Economic Sector Name  Unnamed: 4  \n",
       "0        Consumer Cyclicals         NaN  \n",
       "1           Basic Materials         NaN  \n",
       "2           Basic Materials         NaN  \n",
       "3                    Energy         NaN  \n",
       "4           Basic Materials         NaN  "
      ]
     },
     "execution_count": 3,
     "metadata": {},
     "output_type": "execute_result"
    }
   ],
   "source": [
    "df.head()"
   ]
  },
  {
   "cell_type": "code",
   "execution_count": 4,
   "metadata": {
    "collapsed": true
   },
   "outputs": [],
   "source": [
    "#drop that 4th column (must have pandas 0.21 to use \"drop\" function)\n",
    "df = df.drop(columns=['Unnamed: 4'])"
   ]
  },
  {
   "cell_type": "code",
   "execution_count": 5,
   "metadata": {},
   "outputs": [
    {
     "data": {
      "text/plain": [
       "Index(['Identifier', 'Company Name', 'Business Description',\n",
       "       'TRBC Economic Sector Name'],\n",
       "      dtype='object')"
      ]
     },
     "execution_count": 5,
     "metadata": {},
     "output_type": "execute_result"
    }
   ],
   "source": [
    "df.columns"
   ]
  },
  {
   "cell_type": "code",
   "execution_count": 6,
   "metadata": {
    "collapsed": true
   },
   "outputs": [],
   "source": [
    "#Renaming columns so we can work with data\n",
    "df.columns=['Identifier', 'Company_Name', 'Business_Description', 'TRBC_Economic_Sector_Name']"
   ]
  },
  {
   "cell_type": "code",
   "execution_count": 7,
   "metadata": {},
   "outputs": [
    {
     "data": {
      "text/plain": [
       "Index(['Identifier', 'Company_Name', 'Business_Description',\n",
       "       'TRBC_Economic_Sector_Name'],\n",
       "      dtype='object')"
      ]
     },
     "execution_count": 7,
     "metadata": {},
     "output_type": "execute_result"
    }
   ],
   "source": [
    "df.columns"
   ]
  },
  {
   "cell_type": "code",
   "execution_count": 8,
   "metadata": {},
   "outputs": [
    {
     "data": {
      "image/png": "[encoded data removed]",
      "text/plain": [
       "<Figure size 576x432 with 1 Axes>"
      ]
     },
     "metadata": {
      "image/png": {
       "height": 512,
       "width": 495
      }
     },
     "output_type": "display_data"
    }
   ],
   "source": [
    "#Distribution of companies across economic sectors\n",
    "import matplotlib.pyplot as plt\n",
    "fig = plt.figure(figsize=(8,6))\n",
    "df.groupby('TRBC_Economic_Sector_Name').Company_Name.count().plot.bar(ylim=0)\n",
    "plt.show()"
   ]
  },
  {
   "cell_type": "code",
   "execution_count": 9,
   "metadata": {},
   "outputs": [
    {
     "name": "stderr",
     "output_type": "stream",
     "text": [
      "/anaconda/lib/python3.6/site-packages/sklearn/feature_extraction/text.py:1059: FutureWarning: Conversion of the second argument of issubdtype from `float` to `np.floating` is deprecated. In future, it will be treated as `np.float64 == np.dtype(float).type`.\n",
      "  if hasattr(X, 'dtype') and np.issubdtype(X.dtype, np.float):\n"
     ]
    },
    {
     "data": {
      "text/plain": [
       "(23036, 49538)"
      ]
     },
     "execution_count": 9,
     "metadata": {},
     "output_type": "execute_result"
    }
   ],
   "source": [
    "# Adding Sector_id column so we can run a chi-squared test...\n",
    "df['Sector_id'] = df['TRBC_Economic_Sector_Name'].factorize()[0]\n",
    "Sector_id_df = df[['TRBC_Economic_Sector_Name', 'Sector_id']].drop_duplicates().sort_values('Sector_id')\n",
    "Sector_to_id = dict(Sector_id_df.values)\n",
    "id_to_Sector = dict(Sector_id_df[['Sector_id', 'TRBC_Economic_Sector_Name']].values)\n",
    "\n",
    "tfidf = TfidfVectorizer(sublinear_tf=True, min_df=5, norm='l2', encoding='latin-1', ngram_range=(1, 2), stop_words='english')\n",
    "\n",
    "df.Business_Description = df['Business_Description'].values.astype('U').tolist()\n",
    "features = tfidf.fit_transform(df.Business_Description).toarray()\n",
    "\n",
    "labels = df.Sector_id\n",
    "features.shape"
   ]
  },
  {
   "cell_type": "code",
   "execution_count": 10,
   "metadata": {},
   "outputs": [
    {
     "data": {
      "text/html": [
       "<div>\n",
       "<style scoped>\n",
       "    .dataframe tbody tr th:only-of-type {\n",
       "        vertical-align: middle;\n",
       "    }\n",
       "\n",
       "    .dataframe tbody tr th {\n",
       "        vertical-align: top;\n",
       "    }\n",
       "\n",
       "    .dataframe thead th {\n",
       "        text-align: right;\n",
       "    }\n",
       "</style>\n",
       "<table border=\"1\" class=\"dataframe\">\n",
       "  <thead>\n",
       "    <tr style=\"text-align: right;\">\n",
       "      <th></th>\n",
       "      <th>Identifier</th>\n",
       "      <th>Company_Name</th>\n",
       "      <th>Business_Description</th>\n",
       "      <th>TRBC_Economic_Sector_Name</th>\n",
       "      <th>Sector_id</th>\n",
       "    </tr>\n",
       "  </thead>\n",
       "  <tbody>\n",
       "    <tr>\n",
       "      <th>0</th>\n",
       "      <td>CMI.N</td>\n",
       "      <td>Cummins Inc</td>\n",
       "      <td>Cummins Inc. designs, manufactures, distribute...</td>\n",
       "      <td>Consumer Cyclicals</td>\n",
       "      <td>0</td>\n",
       "    </tr>\n",
       "    <tr>\n",
       "      <th>1</th>\n",
       "      <td>RIO.L</td>\n",
       "      <td>Rio Tinto PLC</td>\n",
       "      <td>Rio Tinto plc is a mining and metals company. ...</td>\n",
       "      <td>Basic Materials</td>\n",
       "      <td>1</td>\n",
       "    </tr>\n",
       "    <tr>\n",
       "      <th>2</th>\n",
       "      <td>RIO.AX</td>\n",
       "      <td>Rio Tinto Ltd</td>\n",
       "      <td>Rio Tinto Limited (Rio Tinto) is a mining comp...</td>\n",
       "      <td>Basic Materials</td>\n",
       "      <td>1</td>\n",
       "    </tr>\n",
       "    <tr>\n",
       "      <th>3</th>\n",
       "      <td>RDSa.AS</td>\n",
       "      <td>Royal Dutch Shell PLC</td>\n",
       "      <td>The Royal Dutch Shell plc explores for crude o...</td>\n",
       "      <td>Energy</td>\n",
       "      <td>2</td>\n",
       "    </tr>\n",
       "    <tr>\n",
       "      <th>4</th>\n",
       "      <td>BLT.L</td>\n",
       "      <td>BHP Billiton PLC</td>\n",
       "      <td>BHP Billiton Plc is a global resources company...</td>\n",
       "      <td>Basic Materials</td>\n",
       "      <td>1</td>\n",
       "    </tr>\n",
       "  </tbody>\n",
       "</table>\n",
       "</div>"
      ],
      "text/plain": [
       "  Identifier           Company_Name  \\\n",
       "0      CMI.N            Cummins Inc   \n",
       "1      RIO.L          Rio Tinto PLC   \n",
       "2     RIO.AX          Rio Tinto Ltd   \n",
       "3    RDSa.AS  Royal Dutch Shell PLC   \n",
       "4      BLT.L       BHP Billiton PLC   \n",
       "\n",
       "                                Business_Description  \\\n",
       "0  Cummins Inc. designs, manufactures, distribute...   \n",
       "1  Rio Tinto plc is a mining and metals company. ...   \n",
       "2  Rio Tinto Limited (Rio Tinto) is a mining comp...   \n",
       "3  The Royal Dutch Shell plc explores for crude o...   \n",
       "4  BHP Billiton Plc is a global resources company...   \n",
       "\n",
       "  TRBC_Economic_Sector_Name  Sector_id  \n",
       "0        Consumer Cyclicals          0  \n",
       "1           Basic Materials          1  \n",
       "2           Basic Materials          1  \n",
       "3                    Energy          2  \n",
       "4           Basic Materials          1  "
      ]
     },
     "execution_count": 10,
     "metadata": {},
     "output_type": "execute_result"
    }
   ],
   "source": [
    "df.head()"
   ]
  },
  {
   "cell_type": "code",
   "execution_count": 11,
   "metadata": {},
   "outputs": [
    {
     "name": "stdout",
     "output_type": "stream",
     "text": [
      "# 'Basic Materials':\n",
      "  . Most correlated unigrams:\n",
      ". steel\n",
      ". cement\n",
      "  . Most correlated bigrams:\n",
      ". steel products\n",
      ". chemical products\n",
      "# 'Consumer Cyclicals':\n",
      "  . Most correlated unigrams:\n",
      ". stores\n",
      ". apparel\n",
      "  . Most correlated bigrams:\n",
      ". department stores\n",
      ". men women\n",
      "# 'Consumer Non-Cyclicals':\n",
      "  . Most correlated unigrams:\n",
      ". foods\n",
      ". food\n",
      "  . Most correlated bigrams:\n",
      ". dairy products\n",
      ". food products\n",
      "# 'Energy':\n",
      "  . Most correlated unigrams:\n",
      ". gas\n",
      ". oil\n",
      "  . Most correlated bigrams:\n",
      ". natural gas\n",
      ". crude oil\n",
      "# 'Financials':\n",
      "  . Most correlated unigrams:\n",
      ". banking\n",
      ". bank\n",
      "  . Most correlated bigrams:\n",
      ". investment trust\n",
      ". real estate\n",
      "# 'Healthcare':\n",
      "  . Most correlated unigrams:\n",
      ". drugs\n",
      ". pharmaceutical\n",
      "  . Most correlated bigrams:\n",
      ". pharmaceutical products\n",
      ". biopharmaceutical company\n",
      "# 'Industrials':\n",
      "  . Most correlated unigrams:\n",
      ". equipment\n",
      ". engineering\n",
      "  . Most correlated bigrams:\n",
      ". engaged construction\n",
      ". civil engineering\n",
      "# 'Technology':\n",
      "  . Most correlated unigrams:\n",
      ". semiconductor\n",
      ". software\n",
      "  . Most correlated bigrams:\n",
      ". liquid crystal\n",
      ". integrated circuits\n",
      "# 'Telecommunications Services':\n",
      "  . Most correlated unigrams:\n",
      ". telecommunications\n",
      ". voice\n",
      "  . Most correlated bigrams:\n",
      ". telecommunications services\n",
      ". fixed line\n",
      "# 'Utilities':\n",
      "  . Most correlated unigrams:\n",
      ". generation\n",
      ". electricity\n",
      "  . Most correlated bigrams:\n",
      ". engaged generation\n",
      ". electric power\n"
     ]
    }
   ],
   "source": [
    "# Using chi2 to find terms in Business_Desciption most correlated with each TRBC_Economic_Sector_Name\n",
    "N = 2\n",
    "for TRBC_Economic_Sector_Name, Sector_id in sorted(Sector_to_id.items()):\n",
    "  features_chi2 = chi2(features, labels == Sector_id)\n",
    "  indices = np.argsort(features_chi2[0])\n",
    "  feature_names = np.array(tfidf.get_feature_names())[indices]\n",
    "  unigrams = [v for v in feature_names if len(v.split(' ')) == 1]\n",
    "  bigrams = [v for v in feature_names if len(v.split(' ')) == 2]\n",
    "  print(\"# '{}':\".format(TRBC_Economic_Sector_Name))\n",
    "  print(\"  . Most correlated unigrams:\\n. {}\".format('\\n. '.join(unigrams[-N:])))\n",
    "  print(\"  . Most correlated bigrams:\\n. {}\".format('\\n. '.join(bigrams[-N:])))"
   ]
  },
  {
   "cell_type": "code",
   "execution_count": 12,
   "metadata": {
    "collapsed": true
   },
   "outputs": [],
   "source": [
    "#Moving on to process data for Naive Bayes testing\n",
    "\n",
    "def remove_punctuation(text):\n",
    "    '''a function for removing punctuation'''\n",
    "    import string\n",
    "    # replacing the punctuations with no space, \n",
    "    # which in effect deletes the punctuation marks \n",
    "    translator = str.maketrans('', '', string.punctuation)\n",
    "    # return the text stripped of punctuation marks\n",
    "    return str(text).translate(translator)"
   ]
  },
  {
   "cell_type": "code",
   "execution_count": 13,
   "metadata": {},
   "outputs": [
    {
     "data": {
      "text/html": [
       "<div>\n",
       "<style scoped>\n",
       "    .dataframe tbody tr th:only-of-type {\n",
       "        vertical-align: middle;\n",
       "    }\n",
       "\n",
       "    .dataframe tbody tr th {\n",
       "        vertical-align: top;\n",
       "    }\n",
       "\n",
       "    .dataframe thead th {\n",
       "        text-align: right;\n",
       "    }\n",
       "</style>\n",
       "<table border=\"1\" class=\"dataframe\">\n",
       "  <thead>\n",
       "    <tr style=\"text-align: right;\">\n",
       "      <th></th>\n",
       "      <th>Identifier</th>\n",
       "      <th>Company_Name</th>\n",
       "      <th>Business_Description</th>\n",
       "      <th>TRBC_Economic_Sector_Name</th>\n",
       "      <th>Sector_id</th>\n",
       "    </tr>\n",
       "  </thead>\n",
       "  <tbody>\n",
       "    <tr>\n",
       "      <th>0</th>\n",
       "      <td>CMI.N</td>\n",
       "      <td>Cummins Inc</td>\n",
       "      <td>Cummins Inc designs manufactures distributes a...</td>\n",
       "      <td>Consumer Cyclicals</td>\n",
       "      <td>0</td>\n",
       "    </tr>\n",
       "    <tr>\n",
       "      <th>1</th>\n",
       "      <td>RIO.L</td>\n",
       "      <td>Rio Tinto PLC</td>\n",
       "      <td>Rio Tinto plc is a mining and metals company T...</td>\n",
       "      <td>Basic Materials</td>\n",
       "      <td>1</td>\n",
       "    </tr>\n",
       "    <tr>\n",
       "      <th>2</th>\n",
       "      <td>RIO.AX</td>\n",
       "      <td>Rio Tinto Ltd</td>\n",
       "      <td>Rio Tinto Limited Rio Tinto is a mining compan...</td>\n",
       "      <td>Basic Materials</td>\n",
       "      <td>1</td>\n",
       "    </tr>\n",
       "    <tr>\n",
       "      <th>3</th>\n",
       "      <td>RDSa.AS</td>\n",
       "      <td>Royal Dutch Shell PLC</td>\n",
       "      <td>The Royal Dutch Shell plc explores for crude o...</td>\n",
       "      <td>Energy</td>\n",
       "      <td>2</td>\n",
       "    </tr>\n",
       "    <tr>\n",
       "      <th>4</th>\n",
       "      <td>BLT.L</td>\n",
       "      <td>BHP Billiton PLC</td>\n",
       "      <td>BHP Billiton Plc is a global resources company...</td>\n",
       "      <td>Basic Materials</td>\n",
       "      <td>1</td>\n",
       "    </tr>\n",
       "    <tr>\n",
       "      <th>5</th>\n",
       "      <td>BHP.AX</td>\n",
       "      <td>BHP Billiton Ltd</td>\n",
       "      <td>BHP Billiton Limited is a global resources com...</td>\n",
       "      <td>Basic Materials</td>\n",
       "      <td>1</td>\n",
       "    </tr>\n",
       "    <tr>\n",
       "      <th>6</th>\n",
       "      <td>PETR4.SA</td>\n",
       "      <td>Petroleo Brasileiro SA Petrobras</td>\n",
       "      <td>Petroleo Brasileiro SAPetrobras specializes in...</td>\n",
       "      <td>Energy</td>\n",
       "      <td>2</td>\n",
       "    </tr>\n",
       "    <tr>\n",
       "      <th>7</th>\n",
       "      <td>TOTF.PA</td>\n",
       "      <td>Total SA</td>\n",
       "      <td>Total SA Total is an oil and gas company The C...</td>\n",
       "      <td>Energy</td>\n",
       "      <td>2</td>\n",
       "    </tr>\n",
       "    <tr>\n",
       "      <th>8</th>\n",
       "      <td>7203.T</td>\n",
       "      <td>Toyota Motor Corp</td>\n",
       "      <td>Toyota Motor Corporation Toyota conducts busin...</td>\n",
       "      <td>Consumer Cyclicals</td>\n",
       "      <td>0</td>\n",
       "    </tr>\n",
       "    <tr>\n",
       "      <th>9</th>\n",
       "      <td>BP.L</td>\n",
       "      <td>BP PLC</td>\n",
       "      <td>BP plc is an integrated oil and gas company Th...</td>\n",
       "      <td>Energy</td>\n",
       "      <td>2</td>\n",
       "    </tr>\n",
       "  </tbody>\n",
       "</table>\n",
       "</div>"
      ],
      "text/plain": [
       "  Identifier                      Company_Name  \\\n",
       "0      CMI.N                       Cummins Inc   \n",
       "1      RIO.L                     Rio Tinto PLC   \n",
       "2     RIO.AX                     Rio Tinto Ltd   \n",
       "3    RDSa.AS             Royal Dutch Shell PLC   \n",
       "4      BLT.L                  BHP Billiton PLC   \n",
       "5     BHP.AX                  BHP Billiton Ltd   \n",
       "6   PETR4.SA  Petroleo Brasileiro SA Petrobras   \n",
       "7    TOTF.PA                          Total SA   \n",
       "8     7203.T                 Toyota Motor Corp   \n",
       "9       BP.L                            BP PLC   \n",
       "\n",
       "                                Business_Description  \\\n",
       "0  Cummins Inc designs manufactures distributes a...   \n",
       "1  Rio Tinto plc is a mining and metals company T...   \n",
       "2  Rio Tinto Limited Rio Tinto is a mining compan...   \n",
       "3  The Royal Dutch Shell plc explores for crude o...   \n",
       "4  BHP Billiton Plc is a global resources company...   \n",
       "5  BHP Billiton Limited is a global resources com...   \n",
       "6  Petroleo Brasileiro SAPetrobras specializes in...   \n",
       "7  Total SA Total is an oil and gas company The C...   \n",
       "8  Toyota Motor Corporation Toyota conducts busin...   \n",
       "9  BP plc is an integrated oil and gas company Th...   \n",
       "\n",
       "  TRBC_Economic_Sector_Name  Sector_id  \n",
       "0        Consumer Cyclicals          0  \n",
       "1           Basic Materials          1  \n",
       "2           Basic Materials          1  \n",
       "3                    Energy          2  \n",
       "4           Basic Materials          1  \n",
       "5           Basic Materials          1  \n",
       "6                    Energy          2  \n",
       "7                    Energy          2  \n",
       "8        Consumer Cyclicals          0  \n",
       "9                    Energy          2  "
      ]
     },
     "execution_count": 13,
     "metadata": {},
     "output_type": "execute_result"
    }
   ],
   "source": [
    "df['Business_Description'] = df['Business_Description'].apply(remove_punctuation)\n",
    "df.head(10)"
   ]
  },
  {
   "cell_type": "code",
   "execution_count": 14,
   "metadata": {
    "collapsed": true
   },
   "outputs": [],
   "source": [
    "# extracting the stopwords from nltk library\n",
    "sw = stopwords.words('english')"
   ]
  },
  {
   "cell_type": "code",
   "execution_count": 15,
   "metadata": {
    "collapsed": true
   },
   "outputs": [],
   "source": [
    "def stopwords(text):\n",
    "    '''a function for removing the stopword'''\n",
    "    # removing the stop words and lowercasing the selected words\n",
    "    text = [word.lower() for word in text.split() if word.lower() not in sw]\n",
    "    # joining the list of words with space separator\n",
    "    return \" \".join(text)"
   ]
  },
  {
   "cell_type": "code",
   "execution_count": 16,
   "metadata": {},
   "outputs": [
    {
     "data": {
      "text/html": [
       "<div>\n",
       "<style scoped>\n",
       "    .dataframe tbody tr th:only-of-type {\n",
       "        vertical-align: middle;\n",
       "    }\n",
       "\n",
       "    .dataframe tbody tr th {\n",
       "        vertical-align: top;\n",
       "    }\n",
       "\n",
       "    .dataframe thead th {\n",
       "        text-align: right;\n",
       "    }\n",
       "</style>\n",
       "<table border=\"1\" class=\"dataframe\">\n",
       "  <thead>\n",
       "    <tr style=\"text-align: right;\">\n",
       "      <th></th>\n",
       "      <th>Identifier</th>\n",
       "      <th>Company_Name</th>\n",
       "      <th>Business_Description</th>\n",
       "      <th>TRBC_Economic_Sector_Name</th>\n",
       "      <th>Sector_id</th>\n",
       "    </tr>\n",
       "  </thead>\n",
       "  <tbody>\n",
       "    <tr>\n",
       "      <th>0</th>\n",
       "      <td>CMI.N</td>\n",
       "      <td>Cummins Inc</td>\n",
       "      <td>cummins inc designs manufactures distributes s...</td>\n",
       "      <td>Consumer Cyclicals</td>\n",
       "      <td>0</td>\n",
       "    </tr>\n",
       "    <tr>\n",
       "      <th>1</th>\n",
       "      <td>RIO.L</td>\n",
       "      <td>Rio Tinto PLC</td>\n",
       "      <td>rio tinto plc mining metals company companys b...</td>\n",
       "      <td>Basic Materials</td>\n",
       "      <td>1</td>\n",
       "    </tr>\n",
       "    <tr>\n",
       "      <th>2</th>\n",
       "      <td>RIO.AX</td>\n",
       "      <td>Rio Tinto Ltd</td>\n",
       "      <td>rio tinto limited rio tinto mining company com...</td>\n",
       "      <td>Basic Materials</td>\n",
       "      <td>1</td>\n",
       "    </tr>\n",
       "    <tr>\n",
       "      <th>3</th>\n",
       "      <td>RDSa.AS</td>\n",
       "      <td>Royal Dutch Shell PLC</td>\n",
       "      <td>royal dutch shell plc explores crude oil natur...</td>\n",
       "      <td>Energy</td>\n",
       "      <td>2</td>\n",
       "    </tr>\n",
       "    <tr>\n",
       "      <th>4</th>\n",
       "      <td>BLT.L</td>\n",
       "      <td>BHP Billiton PLC</td>\n",
       "      <td>bhp billiton plc global resources company comp...</td>\n",
       "      <td>Basic Materials</td>\n",
       "      <td>1</td>\n",
       "    </tr>\n",
       "    <tr>\n",
       "      <th>5</th>\n",
       "      <td>BHP.AX</td>\n",
       "      <td>BHP Billiton Ltd</td>\n",
       "      <td>bhp billiton limited global resources company ...</td>\n",
       "      <td>Basic Materials</td>\n",
       "      <td>1</td>\n",
       "    </tr>\n",
       "    <tr>\n",
       "      <th>6</th>\n",
       "      <td>PETR4.SA</td>\n",
       "      <td>Petroleo Brasileiro SA Petrobras</td>\n",
       "      <td>petroleo brasileiro sapetrobras specializes oi...</td>\n",
       "      <td>Energy</td>\n",
       "      <td>2</td>\n",
       "    </tr>\n",
       "    <tr>\n",
       "      <th>7</th>\n",
       "      <td>TOTF.PA</td>\n",
       "      <td>Total SA</td>\n",
       "      <td>total sa total oil gas company company three s...</td>\n",
       "      <td>Energy</td>\n",
       "      <td>2</td>\n",
       "    </tr>\n",
       "    <tr>\n",
       "      <th>8</th>\n",
       "      <td>7203.T</td>\n",
       "      <td>Toyota Motor Corp</td>\n",
       "      <td>toyota motor corporation toyota conducts busin...</td>\n",
       "      <td>Consumer Cyclicals</td>\n",
       "      <td>0</td>\n",
       "    </tr>\n",
       "    <tr>\n",
       "      <th>9</th>\n",
       "      <td>BP.L</td>\n",
       "      <td>BP PLC</td>\n",
       "      <td>bp plc integrated oil gas company company owns...</td>\n",
       "      <td>Energy</td>\n",
       "      <td>2</td>\n",
       "    </tr>\n",
       "  </tbody>\n",
       "</table>\n",
       "</div>"
      ],
      "text/plain": [
       "  Identifier                      Company_Name  \\\n",
       "0      CMI.N                       Cummins Inc   \n",
       "1      RIO.L                     Rio Tinto PLC   \n",
       "2     RIO.AX                     Rio Tinto Ltd   \n",
       "3    RDSa.AS             Royal Dutch Shell PLC   \n",
       "4      BLT.L                  BHP Billiton PLC   \n",
       "5     BHP.AX                  BHP Billiton Ltd   \n",
       "6   PETR4.SA  Petroleo Brasileiro SA Petrobras   \n",
       "7    TOTF.PA                          Total SA   \n",
       "8     7203.T                 Toyota Motor Corp   \n",
       "9       BP.L                            BP PLC   \n",
       "\n",
       "                                Business_Description  \\\n",
       "0  cummins inc designs manufactures distributes s...   \n",
       "1  rio tinto plc mining metals company companys b...   \n",
       "2  rio tinto limited rio tinto mining company com...   \n",
       "3  royal dutch shell plc explores crude oil natur...   \n",
       "4  bhp billiton plc global resources company comp...   \n",
       "5  bhp billiton limited global resources company ...   \n",
       "6  petroleo brasileiro sapetrobras specializes oi...   \n",
       "7  total sa total oil gas company company three s...   \n",
       "8  toyota motor corporation toyota conducts busin...   \n",
       "9  bp plc integrated oil gas company company owns...   \n",
       "\n",
       "  TRBC_Economic_Sector_Name  Sector_id  \n",
       "0        Consumer Cyclicals          0  \n",
       "1           Basic Materials          1  \n",
       "2           Basic Materials          1  \n",
       "3                    Energy          2  \n",
       "4           Basic Materials          1  \n",
       "5           Basic Materials          1  \n",
       "6                    Energy          2  \n",
       "7                    Energy          2  \n",
       "8        Consumer Cyclicals          0  \n",
       "9                    Energy          2  "
      ]
     },
     "execution_count": 16,
     "metadata": {},
     "output_type": "execute_result"
    }
   ],
   "source": [
    "df['Business_Description'] = df['Business_Description'].apply(stopwords)\n",
    "df.head(10)"
   ]
  },
  {
   "cell_type": "code",
   "execution_count": 17,
   "metadata": {
    "collapsed": true
   },
   "outputs": [],
   "source": [
    "# create a count vectorizer object\n",
    "count_vectorizer = CountVectorizer()\n",
    "# fit the count vectorizer using the text data\n",
    "count_vectorizer.fit(df['Business_Description'])\n",
    "# collect the vocabulary items used in the vectorizer\n",
    "dictionary = count_vectorizer.vocabulary_.items() "
   ]
  },
  {
   "cell_type": "code",
   "execution_count": 18,
   "metadata": {
    "collapsed": true
   },
   "outputs": [],
   "source": [
    "# create an object of stemming function\n",
    "stemmer = SnowballStemmer(\"english\")\n",
    "\n",
    "def stemming(text):    \n",
    "    '''a function which stems each word in the given text'''\n",
    "    text = [stemmer.stem(word) for word in text.split()]\n",
    "    return \" \".join(text) "
   ]
  },
  {
   "cell_type": "code",
   "execution_count": 19,
   "metadata": {},
   "outputs": [
    {
     "data": {
      "text/html": [
       "<div>\n",
       "<style scoped>\n",
       "    .dataframe tbody tr th:only-of-type {\n",
       "        vertical-align: middle;\n",
       "    }\n",
       "\n",
       "    .dataframe tbody tr th {\n",
       "        vertical-align: top;\n",
       "    }\n",
       "\n",
       "    .dataframe thead th {\n",
       "        text-align: right;\n",
       "    }\n",
       "</style>\n",
       "<table border=\"1\" class=\"dataframe\">\n",
       "  <thead>\n",
       "    <tr style=\"text-align: right;\">\n",
       "      <th></th>\n",
       "      <th>Identifier</th>\n",
       "      <th>Company_Name</th>\n",
       "      <th>Business_Description</th>\n",
       "      <th>TRBC_Economic_Sector_Name</th>\n",
       "      <th>Sector_id</th>\n",
       "    </tr>\n",
       "  </thead>\n",
       "  <tbody>\n",
       "    <tr>\n",
       "      <th>0</th>\n",
       "      <td>CMI.N</td>\n",
       "      <td>Cummins Inc</td>\n",
       "      <td>cummin inc design manufactur distribut servic ...</td>\n",
       "      <td>Consumer Cyclicals</td>\n",
       "      <td>0</td>\n",
       "    </tr>\n",
       "    <tr>\n",
       "      <th>1</th>\n",
       "      <td>RIO.L</td>\n",
       "      <td>Rio Tinto PLC</td>\n",
       "      <td>rio tinto plc mine metal compani compani busi ...</td>\n",
       "      <td>Basic Materials</td>\n",
       "      <td>1</td>\n",
       "    </tr>\n",
       "    <tr>\n",
       "      <th>2</th>\n",
       "      <td>RIO.AX</td>\n",
       "      <td>Rio Tinto Ltd</td>\n",
       "      <td>rio tinto limit rio tinto mine compani compani...</td>\n",
       "      <td>Basic Materials</td>\n",
       "      <td>1</td>\n",
       "    </tr>\n",
       "    <tr>\n",
       "      <th>3</th>\n",
       "      <td>RDSa.AS</td>\n",
       "      <td>Royal Dutch Shell PLC</td>\n",
       "      <td>royal dutch shell plc explor crude oil natur g...</td>\n",
       "      <td>Energy</td>\n",
       "      <td>2</td>\n",
       "    </tr>\n",
       "    <tr>\n",
       "      <th>4</th>\n",
       "      <td>BLT.L</td>\n",
       "      <td>BHP Billiton PLC</td>\n",
       "      <td>bhp billiton plc global resourc compani compan...</td>\n",
       "      <td>Basic Materials</td>\n",
       "      <td>1</td>\n",
       "    </tr>\n",
       "    <tr>\n",
       "      <th>5</th>\n",
       "      <td>BHP.AX</td>\n",
       "      <td>BHP Billiton Ltd</td>\n",
       "      <td>bhp billiton limit global resourc compani comp...</td>\n",
       "      <td>Basic Materials</td>\n",
       "      <td>1</td>\n",
       "    </tr>\n",
       "    <tr>\n",
       "      <th>6</th>\n",
       "      <td>PETR4.SA</td>\n",
       "      <td>Petroleo Brasileiro SA Petrobras</td>\n",
       "      <td>petroleo brasileiro sapetrobra special oil nat...</td>\n",
       "      <td>Energy</td>\n",
       "      <td>2</td>\n",
       "    </tr>\n",
       "    <tr>\n",
       "      <th>7</th>\n",
       "      <td>TOTF.PA</td>\n",
       "      <td>Total SA</td>\n",
       "      <td>total sa total oil gas compani compani three s...</td>\n",
       "      <td>Energy</td>\n",
       "      <td>2</td>\n",
       "    </tr>\n",
       "    <tr>\n",
       "      <th>8</th>\n",
       "      <td>7203.T</td>\n",
       "      <td>Toyota Motor Corp</td>\n",
       "      <td>toyota motor corpor toyota conduct busi automo...</td>\n",
       "      <td>Consumer Cyclicals</td>\n",
       "      <td>0</td>\n",
       "    </tr>\n",
       "    <tr>\n",
       "      <th>9</th>\n",
       "      <td>BP.L</td>\n",
       "      <td>BP PLC</td>\n",
       "      <td>bp plc integr oil gas compani compani own inte...</td>\n",
       "      <td>Energy</td>\n",
       "      <td>2</td>\n",
       "    </tr>\n",
       "  </tbody>\n",
       "</table>\n",
       "</div>"
      ],
      "text/plain": [
       "  Identifier                      Company_Name  \\\n",
       "0      CMI.N                       Cummins Inc   \n",
       "1      RIO.L                     Rio Tinto PLC   \n",
       "2     RIO.AX                     Rio Tinto Ltd   \n",
       "3    RDSa.AS             Royal Dutch Shell PLC   \n",
       "4      BLT.L                  BHP Billiton PLC   \n",
       "5     BHP.AX                  BHP Billiton Ltd   \n",
       "6   PETR4.SA  Petroleo Brasileiro SA Petrobras   \n",
       "7    TOTF.PA                          Total SA   \n",
       "8     7203.T                 Toyota Motor Corp   \n",
       "9       BP.L                            BP PLC   \n",
       "\n",
       "                                Business_Description  \\\n",
       "0  cummin inc design manufactur distribut servic ...   \n",
       "1  rio tinto plc mine metal compani compani busi ...   \n",
       "2  rio tinto limit rio tinto mine compani compani...   \n",
       "3  royal dutch shell plc explor crude oil natur g...   \n",
       "4  bhp billiton plc global resourc compani compan...   \n",
       "5  bhp billiton limit global resourc compani comp...   \n",
       "6  petroleo brasileiro sapetrobra special oil nat...   \n",
       "7  total sa total oil gas compani compani three s...   \n",
       "8  toyota motor corpor toyota conduct busi automo...   \n",
       "9  bp plc integr oil gas compani compani own inte...   \n",
       "\n",
       "  TRBC_Economic_Sector_Name  Sector_id  \n",
       "0        Consumer Cyclicals          0  \n",
       "1           Basic Materials          1  \n",
       "2           Basic Materials          1  \n",
       "3                    Energy          2  \n",
       "4           Basic Materials          1  \n",
       "5           Basic Materials          1  \n",
       "6                    Energy          2  \n",
       "7                    Energy          2  \n",
       "8        Consumer Cyclicals          0  \n",
       "9                    Energy          2  "
      ]
     },
     "execution_count": 19,
     "metadata": {},
     "output_type": "execute_result"
    }
   ],
   "source": [
    "df['Business_Description'] = df['Business_Description'].apply(stemming)\n",
    "df.head(10)"
   ]
  },
  {
   "cell_type": "code",
   "execution_count": 20,
   "metadata": {
    "collapsed": true
   },
   "outputs": [],
   "source": [
    "# create the object of tfid vectorizer\n",
    "tfid_vectorizer = TfidfVectorizer(\"english\")\n",
    "# fit the vectorizer using the text data\n",
    "tfid_vectorizer.fit(df['Business_Description'])\n",
    "# collect the vocabulary items used in the vectorizer\n",
    "dictionary = tfid_vectorizer.vocabulary_.items() "
   ]
  },
  {
   "cell_type": "code",
   "execution_count": 21,
   "metadata": {},
   "outputs": [
    {
     "name": "stderr",
     "output_type": "stream",
     "text": [
      "/anaconda/lib/python3.6/site-packages/sklearn/feature_extraction/text.py:1059: FutureWarning: Conversion of the second argument of issubdtype from `float` to `np.floating` is deprecated. In future, it will be treated as `np.float64 == np.dtype(float).type`.\n",
      "  if hasattr(X, 'dtype') and np.issubdtype(X.dtype, np.float):\n"
     ]
    }
   ],
   "source": [
    "# The reason I've doubled up here with tfidf initialization is so the output of the prediction is a string, and not the \n",
    "# Sector_id number\n",
    "\n",
    "tfidf = TfidfVectorizer(sublinear_tf=True, min_df=5, norm='l2', encoding='latin-1', ngram_range=(1, 2), stop_words='english')\n",
    "features = tfidf.fit_transform(df.Business_Description).toarray()\n",
    "labels = df.TRBC_Economic_Sector_Name\n"
   ]
  },
  {
   "cell_type": "code",
   "execution_count": 22,
   "metadata": {},
   "outputs": [
    {
     "name": "stderr",
     "output_type": "stream",
     "text": [
      "/anaconda/lib/python3.6/site-packages/sklearn/feature_extraction/text.py:1059: FutureWarning: Conversion of the second argument of issubdtype from `float` to `np.floating` is deprecated. In future, it will be treated as `np.float64 == np.dtype(float).type`.\n",
      "  if hasattr(X, 'dtype') and np.issubdtype(X.dtype, np.float):\n"
     ]
    }
   ],
   "source": [
    "# TESTING WITH NAIVE BAYES # \n",
    "\n",
    "X_train, X_test, y_train, y_test = train_test_split(df['Business_Description'], df['TRBC_Economic_Sector_Name'], random_state = 0)\n",
    "\n",
    "count_vect = CountVectorizer()\n",
    "X_train_counts = count_vect.fit_transform(X_train)\n",
    "\n",
    "tfidf_transformer = TfidfTransformer()\n",
    "\n",
    "X_train_tfidf = tfidf_transformer.fit_transform(X_train_counts)\n",
    "clf = MultinomialNB().fit(X_train_tfidf, y_train)\n",
    "\n"
   ]
  },
  {
   "cell_type": "code",
   "execution_count": 23,
   "metadata": {
    "collapsed": true
   },
   "outputs": [],
   "source": [
    "#TESTING SPECIFIC CASES"
   ]
  },
  {
   "cell_type": "code",
   "execution_count": 24,
   "metadata": {},
   "outputs": [
    {
     "name": "stdout",
     "output_type": "stream",
     "text": [
      "['Financials']\n"
     ]
    }
   ],
   "source": [
    "#TESTING PG&E (Incorrect -- should be Utilities)\n",
    "print(clf.predict(count_vect.transform([\"PG&E Corporation is a holding company. The Company's primary operating subsidiary is Pacific Gas and Electric Company (the Utility), which operates in northern and central California. The Utility is engaged in the sale and delivery of electricity and natural gas to customers. The Utility generates electricity and provides electricity transmission and distribution services throughout its service territory in northern and central California to residential, commercial, industrial, and agricultural customers. The Utility provides bundled services (electricity, transmission and distribution services) to various customers in its service territory. As of December 31, 2016, the Utility owned approximately 18,400 circuit miles of interconnected transmission lines operating at voltages ranging from 60 kilovolt to 500 kilovolt. As of December 31, 2016, the Utility also operated 92 electric transmission substations with a capacity of approximately 64,600 megavolt ampere (MVA).\"])))"
   ]
  },
  {
   "cell_type": "code",
   "execution_count": 25,
   "metadata": {},
   "outputs": [
    {
     "name": "stdout",
     "output_type": "stream",
     "text": [
      "['Consumer Non-Cyclicals']\n"
     ]
    }
   ],
   "source": [
    "#TESTING PEPSI (Correct)\n",
    "print(clf.predict(count_vect.transform([\"PepsiCo, Inc. is a global food and beverage company. The Company's portfolio of brands includes Frito-Lay, Gatorade, Pepsi-Cola, Quaker and Tropicana. The Company operates through six segments: Frito-Lay North America (FLNA), Quaker Foods North America (QFNA), North America Beverages (NAB), Latin America, Europe Sub-Saharan Africa (ESSA), and Asia, Middle East and North Africa (AMENA). The FLNA segment includes its branded food and snack businesses in the United States and Canada. The QFNA segment includes its cereal, rice, pasta and other branded food businesses in the United States and Canada. The NAB segment includes its beverage businesses in the United States and Canada. The Latin America segment includes its beverage, food and snack businesses in Latin America. The ESSA segment includes its beverage, food and snack businesses in Europe and Sub-Saharan Africa. The AMENA segment includes its beverage, food and snack businesses in Asia, Middle East and North Africa.\"])))"
   ]
  },
  {
   "cell_type": "code",
   "execution_count": 26,
   "metadata": {},
   "outputs": [
    {
     "name": "stdout",
     "output_type": "stream",
     "text": [
      "['Technology']\n"
     ]
    }
   ],
   "source": [
    "#TESTING MICROSOFT (Correct)\n",
    "print(clf.predict(count_vect.transform([\"Microsoft Corporation is a technology company. The Company develops, licenses, and supports a range of software products, services and devices. The Company's segments include Productivity and Business Processes, Intelligent Cloud and More Personal Computing. The Company's products include operating systems; cross-device productivity applications; server applications; business solution applications; desktop and server management tools; software development tools; video games, and training and certification of computer system integrators and developers. It also designs, manufactures, and sells devices, including personal computers (PCs), tablets, gaming and entertainment consoles, phones, other intelligent devices, and related accessories, that integrate with its cloud-based offerings. It offers an array of services, including cloud-based solutions that provide customers with software, services, platforms, and content, and it provides solution support and consulting services.\"])))"
   ]
  },
  {
   "cell_type": "code",
   "execution_count": 27,
   "metadata": {},
   "outputs": [
    {
     "name": "stdout",
     "output_type": "stream",
     "text": [
      "['Financials']\n"
     ]
    }
   ],
   "source": [
    "# Test individual case here by pasting business description between quotes:\n",
    "print(clf.predict(count_vect.transform([\"\"])))"
   ]
  },
  {
   "cell_type": "code",
   "execution_count": null,
   "metadata": {
    "collapsed": true
   },
   "outputs": [],
   "source": []
  },
  {
   "cell_type": "code",
   "execution_count": 28,
   "metadata": {},
   "outputs": [
    {
     "name": "stdout",
     "output_type": "stream",
     "text": [
      "Accuracy: 64.59%\n"
     ]
    },
    {
     "name": "stderr",
     "output_type": "stream",
     "text": [
      "/anaconda/lib/python3.6/site-packages/sklearn/feature_extraction/text.py:1059: FutureWarning: Conversion of the second argument of issubdtype from `float` to `np.floating` is deprecated. In future, it will be treated as `np.float64 == np.dtype(float).type`.\n",
      "  if hasattr(X, 'dtype') and np.issubdtype(X.dtype, np.float):\n"
     ]
    }
   ],
   "source": [
    "#CALCULATING OVERALL ACCURACY (w/ condensed testing syntax)\n",
    "\n",
    "counter = Counter(df['TRBC_Economic_Sector_Name'].tolist())\n",
    "top_10_sectors = {i[0]: idx for idx, i in enumerate(counter.most_common(10))}\n",
    "df = df[df['TRBC_Economic_Sector_Name'].map(lambda x: x in top_10_sectors)]\n",
    "\n",
    "description_list = df['Business_Description'].values.astype('U').tolist()\n",
    "\n",
    "sector_list = [top_10_sectors[i] for i in df['TRBC_Economic_Sector_Name'].tolist()]\n",
    "sector_list = np.array(sector_list)\n",
    "\n",
    "count_vect = CountVectorizer()\n",
    "x_train_counts = count_vect.fit_transform(description_list)\n",
    "\n",
    "tfidf_transformer = TfidfTransformer()\n",
    "x_train_tfidf = tfidf_transformer.fit_transform(x_train_counts)\n",
    "\n",
    "train_x, test_x, train_y, test_y = train_test_split(x_train_tfidf, sector_list, test_size=0.3)\n",
    "\n",
    "clf = MultinomialNB().fit(train_x, train_y)\n",
    "y_score = clf.predict(test_x)\n",
    "\n",
    "n_right = 0\n",
    "for i in range(len(y_score)):\n",
    "    if y_score[i] == test_y[i]:\n",
    "        n_right += 1\n",
    "\n",
    "print(\"Accuracy: %.2f%%\" % ((n_right/float(len(test_y)) * 100)))\n"
   ]
  },
  {
   "cell_type": "code",
   "execution_count": null,
   "metadata": {
    "collapsed": true
   },
   "outputs": [],
   "source": []
  },
  {
   "cell_type": "code",
   "execution_count": null,
   "metadata": {
    "collapsed": true
   },
   "outputs": [],
   "source": []
  },
  {
   "cell_type": "code",
   "execution_count": null,
   "metadata": {
    "collapsed": true
   },
   "outputs": [],
   "source": []
  },
  {
   "cell_type": "code",
   "execution_count": null,
   "metadata": {
    "collapsed": true
   },
   "outputs": [],
   "source": []
  },
  {
   "cell_type": "code",
   "execution_count": null,
   "metadata": {
    "collapsed": true
   },
   "outputs": [],
   "source": []
  },
  {
   "cell_type": "code",
   "execution_count": null,
   "metadata": {
    "collapsed": true
   },
   "outputs": [],
   "source": []
  },
  {
   "cell_type": "code",
   "execution_count": null,
   "metadata": {
    "collapsed": true
   },
   "outputs": [],
   "source": []
  },
  {
   "cell_type": "code",
   "execution_count": null,
   "metadata": {
    "collapsed": true
   },
   "outputs": [],
   "source": []
  }
 ],
 "metadata": {
  "kernelspec": {
   "display_name": "Python 3",
   "language": "python",
   "name": "python3"
  },
  "language_info": {
   "codemirror_mode": {
    "name": "ipython",
    "version": 3
   },
   "file_extension": ".py",
   "mimetype": "text/x-python",
   "name": "python",
   "nbconvert_exporter": "python",
   "pygments_lexer": "ipython3",
   "version": "3.6.5"
  }
 },
 "nbformat": 4,
 "nbformat_minor": 2
}
